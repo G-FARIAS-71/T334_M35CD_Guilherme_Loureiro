{
 "cells": [
  {
   "cell_type": "code",
   "execution_count": null,
   "id": "0d045e5d",
   "metadata": {},
   "outputs": [],
   "source": []
  }
 ],
 "metadata": {
  "language_info": {
   "name": "python"
  }
 },
 "nbformat": 4,
 "nbformat_minor": 5
}
